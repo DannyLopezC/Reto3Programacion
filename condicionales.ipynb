{
  "cells": [
    {
      "cell_type": "markdown",
      "metadata": {
        "id": "Je-uqF7z5xRA"
      },
      "source": [
        "Dado un número entero, determinar si ese número corresponde al código ASCII de una vocal minúscula."
      ]
    },
    {
      "cell_type": "code",
      "execution_count": null,
      "metadata": {
        "colab": {
          "base_uri": "https://localhost:8080/"
        },
        "id": "JY_u0QVH5xHQ",
        "outputId": "97613042-78a4-4306-8b0f-018542489111"
      },
      "outputs": [
        {
          "name": "stdout",
          "output_type": "stream",
          "text": [
            "Ingrese un numero entero: 97\n",
            "El numero corresponde a una vocal minuscula: a\n"
          ]
        }
      ],
      "source": [
        "n : int\n",
        "n = int(input(\"Ingrese un numero entero: \"))\n",
        "n = chr(n)\n",
        "if n in 'aeiou':\n",
        "  print(\"El numero corresponde a una vocal minuscula: \" + n)\n",
        "else:\n",
        "  print(\"El numero no corresponde a una vocal minuscula: \" + n)"
      ]
    },
    {
      "cell_type": "markdown",
      "metadata": {
        "id": "oF7-WG346OGI"
      },
      "source": [
        "Dada una cadena de longitud 1, determine si el código ASCII de primera letra de la cadena es par o no."
      ]
    },
    {
      "cell_type": "code",
      "execution_count": null,
      "metadata": {
        "colab": {
          "base_uri": "https://localhost:8080/"
        },
        "id": "EZ5SpD456QKv",
        "outputId": "f405607b-a19e-46b4-cd8e-9c657f8e4d9f"
      },
      "outputs": [
        {
          "name": "stdout",
          "output_type": "stream",
          "text": [
            "Ingrese una cadena de texto de longitud 1: k\n",
            "El ASCII de esa letra no es par: 107\n"
          ]
        }
      ],
      "source": [
        "s : str\n",
        "s = input(\"Ingrese una cadena de texto de longitud 1: \")\n",
        "s = ord(s)\n",
        "if s % 2 == 0:\n",
        "  print(\"El ASCII de esa letra es par: \" + str(s))\n",
        "else:\n",
        "  print(\"El ASCII de esa letra no es par: \" + str(s))"
      ]
    },
    {
      "cell_type": "markdown",
      "metadata": {
        "id": "8iKN9pYv8JBG"
      },
      "source": [
        "Dado un carácter, construya un programa en Python para determinar si el carácter es un dígito o no."
      ]
    },
    {
      "cell_type": "code",
      "execution_count": null,
      "metadata": {
        "colab": {
          "base_uri": "https://localhost:8080/"
        },
        "id": "IO2hDZ768Jz_",
        "outputId": "11ca98be-994e-4701-b0a1-e611df64fae6"
      },
      "outputs": [
        {
          "name": "stdout",
          "output_type": "stream",
          "text": [
            "Ingrese un caracter: p\n",
            "El caracter no es un digito: p\n"
          ]
        }
      ],
      "source": [
        "c : str\n",
        "c = input(\"Ingrese un caracter: \")\n",
        "\n",
        "if c.isdigit():\n",
        "  print(\"El caracter es un digito: \" + c)\n",
        "else:\n",
        "  print(\"El caracter no es un digito: \" + c)"
      ]
    },
    {
      "cell_type": "markdown",
      "metadata": {
        "id": "97bYTaR79bxK"
      },
      "source": [
        "Realice un programa que lea dos números reales y determine si el primero es múltiplo del segundo."
      ]
    },
    {
      "cell_type": "code",
      "execution_count": null,
      "metadata": {
        "id": "dhthab9t9oUY"
      },
      "outputs": [],
      "source": [
        "n1 : float\n",
        "n2 : float\n",
        "n1 = float(input(\"Ingrese el primer numero real: \"))\n",
        "n2 = float(input(\"Ingrese el segundo numero real: \"))\n",
        "\n",
        "if n2 % n1 == 0:\n",
        "  print(str(n2) + \" es multiplo de \" + str(n1))\n",
        "else:\n",
        "  print(str(n2) + \" no es multiplo de \" + str(n1))"
      ]
    },
    {
      "cell_type": "markdown",
      "metadata": {
        "id": "fUfXZ-n7-gmw"
      },
      "source": [
        "Dado un número real x, construya un programa que permita determinar si el número es positivo, negativo o cero. Para cada caso de debe imprimir el texto que se especifica a continuación:\n",
        "\n",
        "Positivo: \"El número x es positivo\"\n",
        "\n",
        "Negativo: \"El número x es negativo\"\n",
        "\n",
        "Cero (0): \"El número x es el neutro para la suma\""
      ]
    },
    {
      "cell_type": "code",
      "execution_count": null,
      "metadata": {
        "colab": {
          "base_uri": "https://localhost:8080/"
        },
        "id": "vOT0EQpS-iy8",
        "outputId": "f9f0749d-069b-40cd-9b28-028f3a7c4de2"
      },
      "outputs": [
        {
          "name": "stdout",
          "output_type": "stream",
          "text": [
            "Ingrese un numero real: -4\n",
            "El numero -4.0 es negativo\n"
          ]
        }
      ],
      "source": [
        "n : float\n",
        "n = float(input(\"Ingrese un numero real: \"))\n",
        "\n",
        "if n > 0:\n",
        "  print(\"El numero \" + str(n) + \" es positivo\")\n",
        "elif n == 0:\n",
        "  print(\"El numero \" + str(n) + \" es el neutro para la suma\")\n",
        "elif n < 0:\n",
        "  print(\"El numero \" + str(n) + \" es negativo\")"
      ]
    },
    {
      "cell_type": "markdown",
      "metadata": {
        "id": "iBEYR04j_coz"
      },
      "source": [
        "Dado el centro y el radio de un círculo, determinar si un punto de R2 pertenece o no al interior del círculo."
      ]
    },
    {
      "cell_type": "code",
      "execution_count": null,
      "metadata": {
        "colab": {
          "base_uri": "https://localhost:8080/"
        },
        "id": "4DaPdfmk_hgm",
        "outputId": "9e11784f-4478-4f9f-ea9f-8ff6b808e15b"
      },
      "outputs": [
        {
          "name": "stdout",
          "output_type": "stream",
          "text": [
            "Ingrese la coordenada x del centro del circulo: 0\n",
            "Ingrese la coordenada y del centro del circulo: 0\n",
            "Ingrese el radio del circulo: 5\n",
            "Ingrese la coordenada x del punto: 2\n",
            "Ingrese la coordenada y del punto: 1\n",
            "El punto (2.0, 1.0) pertenece al interior del circulo\n"
          ]
        }
      ],
      "source": [
        "x : float\n",
        "y : float\n",
        "x = float(input(\"Ingrese la coordenada x del centro del circulo: \"))\n",
        "y = float(input(\"Ingrese la coordenada y del centro del circulo: \"))\n",
        "r : float\n",
        "r = float(input(\"Ingrese el radio del circulo: \"))\n",
        "x1 : float\n",
        "y1 : float\n",
        "x1 = float(input(\"Ingrese la coordenada x del punto: \"))\n",
        "y1 = float(input(\"Ingrese la coordenada y del punto: \"))\n",
        "\n",
        "if (x1 - x)**2 + (y1 - y)**2 <= r**2:\n",
        "  print(\"El punto (\" + str(x1) + \", \" + str(y1) + \") pertenece al interior del circulo\")\n",
        "else:\n",
        "  print(\"El punto (\" + str(x1) + \", \" + str(y1) + \") no pertenece al interior del circulo\")"
      ]
    },
    {
      "cell_type": "markdown",
      "metadata": {
        "id": "yagoV6iUAd47"
      },
      "source": [
        "Dadas tres longitudes positivas, determinar si con esas longitudes se puede construir un triángulo."
      ]
    },
    {
      "cell_type": "code",
      "execution_count": null,
      "metadata": {
        "colab": {
          "base_uri": "https://localhost:8080/"
        },
        "id": "L_DJlwJZAgDm",
        "outputId": "08ca5872-5456-4f7f-fbfc-0793f7e0e325"
      },
      "outputs": [
        {
          "name": "stdout",
          "output_type": "stream",
          "text": [
            "Ingrese la primera longitud: 4\n",
            "Ingrese la segunda longitud: 7\n",
            "Ingrese la tercera longitud: 20\n",
            "No se puede construir un triangulo con esas longitudes\n"
          ]
        }
      ],
      "source": [
        "l1 : float\n",
        "l2 : float\n",
        "l3 : float\n",
        "l1 = float(input(\"Ingrese la primera longitud: \"))\n",
        "l2 = float(input(\"Ingrese la segunda longitud: \"))\n",
        "l3 = float(input(\"Ingrese la tercera longitud: \"))\n",
        "\n",
        "if l1 + l2 > l3 and l1 + l3 > l2 and l2 + l3 > l1:\n",
        "  print(\"Se puede construir un triangulo con esas longitudes\")\n",
        "else:\n",
        "  print(\"No se puede construir un triangulo con esas longitudes\")"
      ]
    },
    {
      "cell_type": "markdown",
      "metadata": {
        "id": "LE8qFZD0A9v3"
      },
      "source": [
        "Escriba un programa que reciba el nombre en minúsculas de un país de America y retorne la ciudad capital, si el país no pertenece al continente debe arrojar país no identificado (Utilice match-case)."
      ]
    },
    {
      "cell_type": "code",
      "execution_count": null,
      "metadata": {
        "colab": {
          "base_uri": "https://localhost:8080/"
        },
        "id": "5tcnajd7BBYy",
        "outputId": "5f357818-13e1-4f96-907d-a6097cdb9122"
      },
      "outputs": [
        {
          "name": "stdout",
          "output_type": "stream",
          "text": [
            "Ingrese el nombre de un pais de America en minusculas: canada\n",
            "La ciudad capital de Canada es Ottawa\n"
          ]
        }
      ],
      "source": [
        "p : str\n",
        "p = input(\"Ingrese el nombre de un pais de America en minusculas: \")\n",
        "\n",
        "match p:\n",
        "  case \"antigua y barbuda\":\n",
        "    print(\"La capital de Antigua y Barbuda es Saint Johns\")\n",
        "  case \"argentina\":\n",
        "    print(\"La capital de Argentina es Buenos Aires\")\n",
        "  case \"bahamas\":\n",
        "    print(\"La capital de Bahamas es Nasau\")\n",
        "  case \"barbados\":\n",
        "    print(\"La capital de Barbados es Bridgetown\")\n",
        "  case \"belice\":\n",
        "    print(\"La capital de Belice es Belmopan\")\n",
        "  case \"bolivia\":\n",
        "    print(\"La capital de Bolivia es Sucre\")\n",
        "  case \"brasil\":\n",
        "    print(\"La capital de Brasil es Brasilia\")\n",
        "  case \"canada\":\n",
        "    print(\"La capital de Canada es Ottawa\")\n",
        "  case \"chile\":\n",
        "    print(\"La capital de Chile es Santiago\")\n",
        "  case \"colombia\":\n",
        "    print(\"La capital de Colombia es Bogota\")\n",
        "  case \"costa rica\":\n",
        "    print(\"La capital de Costa Rica es San Jose\")\n",
        "  case \"cuba\":\n",
        "    print(\"La capital de Cuba es La Habana\")\n",
        "  case \"dominica\":\n",
        "    print(\"La capital de Dominica es Roseau\")\n",
        "  case \"ecuador\":\n",
        "    print(\"La capital de Ecuador es Quito\")\n",
        "  case \"el salvador\":\n",
        "    print(\"La capital de El Salvador es San Salvador\")\n",
        "  case \"estados unidos\":\n",
        "    print(\"La capital de Estados Unidos es Washington D.C\")\n",
        "  case \"granada\":\n",
        "    print(\"La capital de Granada es Saint Georges\")\n",
        "  case \"guatemala\":\n",
        "    print(\"La capital de Guatemala es Ciudad de Guatemala\")\n",
        "  case \"guyana\":\n",
        "    print(\"La capital de Guyana es Georgetown\")\n",
        "  case \"haiti\":\n",
        "    print(\"La capital de Haiti es Puerto Principe\")\n",
        "  case \"honduras\":\n",
        "    print(\"La capital de Honduras es Tegucigalpa\")\n",
        "  case \"jamaica\":\n",
        "    print(\"La capital de Jamaica es Kingston\")\n",
        "  case \"mexico\":\n",
        "    print(\"La capital de Mexico es Ciudad de México\")\n",
        "  case \"nicaragua\":\n",
        "    print(\"La capital de Nicaragua es Managua\")\n",
        "  case \"panama\":\n",
        "    print(\"La capital de Panamá es Ciudad de Panama\")\n",
        "  case \"paraguay\":\n",
        "    print(\"La capital de Paraguay es Asuncion\")\n",
        "  case \"peru\":\n",
        "    print(\"La capital de Peru es Lima\")\n",
        "  case \"republica dominicana\":\n",
        "    print(\"La capital de Republica Dominicana es Santo Domingo\")\n",
        "  case \"san cristobal y nieves\":\n",
        "    print(\"La capital de San Cristobal y Nieves es Basseterre\")\n",
        "  case \"san vicente y las granadinas\":\n",
        "    print(\"La capital de San Vicente y las Granadinas es Kingstown\")\n",
        "  case \"santa lucia\":\n",
        "    print(\"La capital de Santa Lucia es Castries\")\n",
        "  case \"surinam\":\n",
        "    print(\"La capital de Surinam es Paramaribo\")\n",
        "  case \"trinidad y tobago\":\n",
        "    print(\"La capital de Trinidad y Tobago es Puerto España\")\n",
        "  case \"uruguay\":\n",
        "    print(\"La capital de Uruguay es Montevideo\")\n",
        "  case \"venezuela\":\n",
        "    print(\"La capital de Venezuela es Caracas\")\n",
        "  case _:\n",
        "    print(\"Pais no encontrado\")"
      ]
    }
  ],
  "metadata": {
    "colab": {
      "provenance": [],
      "toc_visible": true
    },
    "kernelspec": {
      "display_name": "Python 3",
      "name": "python3"
    },
    "language_info": {
      "name": "python"
    }
  },
  "nbformat": 4,
  "nbformat_minor": 0
}
